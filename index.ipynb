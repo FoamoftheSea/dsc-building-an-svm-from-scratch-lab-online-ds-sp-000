{
 "cells": [
  {
   "cell_type": "markdown",
   "metadata": {},
   "source": [
    "# Building an SVM from Scratch - Lab"
   ]
  },
  {
   "cell_type": "markdown",
   "metadata": {},
   "source": [
    "## Introduction"
   ]
  },
  {
   "cell_type": "markdown",
   "metadata": {},
   "source": [
    "In this lab, you'll program a simple Support Vector Machine from scratch!"
   ]
  },
  {
   "cell_type": "markdown",
   "metadata": {},
   "source": [
    "## Objectives"
   ]
  },
  {
   "cell_type": "markdown",
   "metadata": {},
   "source": [
    "In this lab you will: \n",
    "\n",
    "- Build a simple linear max margin classifier from scratch \n",
    "- Build a simple soft margin classifier from scratch"
   ]
  },
  {
   "cell_type": "markdown",
   "metadata": {},
   "source": [
    "## The data"
   ]
  },
  {
   "cell_type": "markdown",
   "metadata": {},
   "source": [
    "Support Vector Machines can be used for any $n$-dimensional feature space. However, for this lab, you'll focus on a more limited 2-dimensional feature space so that you can easily visualize the results.\n",
    "\n",
    "Scikit-learn has an excellent set of dataset generator functions. One of them is `make_blobs()`. Below, you can find the code to create two blobs using the `make_blobs()` function. Afterward, you'll use this data to build your own SVM from scratch! "
   ]
  },
  {
   "cell_type": "code",
   "execution_count": 1,
   "metadata": {},
   "outputs": [
    {
     "data": {
      "image/png": "[encoded data removed]",
      "text/plain": [
       "<Figure size 360x360 with 1 Axes>"
      ]
     },
     "metadata": {},
     "output_type": "display_data"
    }
   ],
   "source": [
    "from sklearn.datasets import make_blobs\n",
    "import matplotlib.pyplot as plt\n",
    "%matplotlib inline  \n",
    "plt.style.use('ggplot')\n",
    "from jupyterthemes import jtplot\n",
    "jtplot.style()\n",
    "import numpy as np\n",
    "\n",
    "plt.figure(figsize=(5, 5))\n",
    "\n",
    "plt.title('Two blobs')\n",
    "X, labels = make_blobs(n_features=2, centers=2, cluster_std=1.25,  random_state=123)\n",
    "plt.scatter(X[:, 0], X[:, 1], c=labels, s=25);"
   ]
  },
  {
   "cell_type": "markdown",
   "metadata": {},
   "source": [
    "## Build a Max Margin classifier\n",
    "\n",
    "Since you are aiming to maximize the margin between the decision boundary and the support vectors, creating a support vector machine boils down to solving a convex optimization problem. As such, you can use the Python library `cvxpy` to do so. More information can be found [here](http://www.cvxpy.org/).\n",
    "\n",
    "You may have not used `cvxpy` before, so make sure it is installed on your local computer using `pip install cvxpy`.\n",
    "\n",
    "The four important commands to be used here are:\n",
    "\n",
    "- `cp.Variable()` where you either don't include anything between `()` or, if the variable is an array with multiple elements, the number of elements.\n",
    "- `cp.Minimize()` or `cp.Maximize()`, with the element to be maximized passed in as a paramater.\n",
    "- `cp.Problem(objective, constraints)`, the objective is generally a stored minimization or maximization objective, and the constraints are listed constraints. Constraints can be added by a \"+\" sign. \n",
    "- Next, you should store your `cp.Problem` in an object and use `object.solve()` to solve the optimization problem."
   ]
  },
  {
   "cell_type": "markdown",
   "metadata": {},
   "source": [
    "Recall that we're trying to solve this problem:\n",
    "\n",
    "$ w x^{(i)} + b \\geq 1$  if $y ^{(i)} = 1$\n",
    "\n",
    "$ w x^{(i)} + b \\leq -1$  if $y ^{(i)} = -1$\n",
    "\n",
    "And, the objective function you're maximizing is $\\dfrac{2}{\\lVert w \\rVert}$. To make things easier, you can instead minimize $\\lVert w \\rVert$"
   ]
  },
  {
   "cell_type": "markdown",
   "metadata": {},
   "source": [
    "Note that $y^{(i)}$ is the class label. Take a look at the labels by printing them below."
   ]
  },
  {
   "cell_type": "code",
   "execution_count": 2,
   "metadata": {},
   "outputs": [
    {
     "data": {
      "text/plain": [
       "array([0, 0, 0, 1, 0])"
      ]
     },
     "execution_count": 2,
     "metadata": {},
     "output_type": "execute_result"
    }
   ],
   "source": [
    "# Print labels\n",
    "labels[:5]"
   ]
  },
  {
   "cell_type": "markdown",
   "metadata": {},
   "source": [
    "Before you start to write down the optimization problem, split the data in the two classes. Name them `class_1` and `class_2`."
   ]
  },
  {
   "cell_type": "code",
   "execution_count": 3,
   "metadata": {},
   "outputs": [],
   "source": [
    "# Assign label 0 to class_1\n",
    "class_1 = X[labels == 0]\n",
    "\n",
    "# Assign label 1 to class_2\n",
    "class_2 = X[labels == 1]"
   ]
  },
  {
   "cell_type": "code",
   "execution_count": 4,
   "metadata": {},
   "outputs": [
    {
     "data": {
      "text/plain": [
       "(50, 2)"
      ]
     },
     "execution_count": 4,
     "metadata": {},
     "output_type": "execute_result"
    }
   ],
   "source": [
    "class_1.shape"
   ]
  },
  {
   "cell_type": "markdown",
   "metadata": {},
   "source": [
    "Next, you need to find a way to create a hyperplane (in this case, a line) that can maximize the difference between the two classes. \n",
    "Here's a pseudocode outline:\n",
    "- First, `import cvxpy as cp`\n",
    "- Next, define the variables. note that `b` and `w` are variables (What are the dimensions?)\n",
    "- Then, build the constraints (You have two constraints here)\n",
    "- After that, use \"+\" to group the constraints together\n",
    "- The next step is to define the objective function\n",
    "- After that, define the problem using `cp.Problem()`\n",
    "- Solve the problem using `.solve()`\n",
    "- Finally, print the problem status (however you defined the problem, and attach `.status`) "
   ]
  },
  {
   "cell_type": "code",
   "execution_count": 5,
   "metadata": {},
   "outputs": [],
   "source": [
    "# Import cvxpy\n",
    "import cvxpy as cp\n",
    "d = 2\n",
    "m = 50\n",
    "n = 50"
   ]
  },
  {
   "cell_type": "code",
   "execution_count": 6,
   "metadata": {},
   "outputs": [
    {
     "data": {
      "text/plain": [
       "array([ 5.06326521, -6.06306418])"
      ]
     },
     "execution_count": 6,
     "metadata": {},
     "output_type": "execute_result"
    }
   ],
   "source": [
    "class_1[0]"
   ]
  },
  {
   "cell_type": "code",
   "execution_count": 7,
   "metadata": {},
   "outputs": [
    {
     "data": {
      "text/plain": [
       "array([0.1, 0.1])"
      ]
     },
     "execution_count": 7,
     "metadata": {},
     "output_type": "execute_result"
    }
   ],
   "source": [
    "np.array([.1, .1])"
   ]
  },
  {
   "cell_type": "code",
   "execution_count": 8,
   "metadata": {},
   "outputs": [
    {
     "data": {
      "text/plain": [
       "-0.09997989695672638"
      ]
     },
     "execution_count": 8,
     "metadata": {},
     "output_type": "execute_result"
    }
   ],
   "source": [
    "np.array([.1, .1]).T @ class_1[0]"
   ]
  },
  {
   "cell_type": "code",
   "execution_count": 9,
   "metadata": {},
   "outputs": [
    {
     "data": {
      "text/plain": [
       "Expression(CONSTANT, NONNEGATIVE, ())"
      ]
     },
     "execution_count": 9,
     "metadata": {},
     "output_type": "execute_result"
    }
   ],
   "source": [
    "cp.norm(class_1[0], 2)"
   ]
  },
  {
   "cell_type": "code",
   "execution_count": 10,
   "metadata": {},
   "outputs": [
    {
     "name": "stdout",
     "output_type": "stream",
     "text": [
      "Problem Status: optimal\n"
     ]
    }
   ],
   "source": [
    "# Define the variables\n",
    "w = cp.Variable(d)\n",
    "b = cp.Variable()\n",
    "\n",
    "# Define the constraints\n",
    "x_constraints = [w.T @ class_1[i] + b >= 1 for i in range(m)]\n",
    "y_constraints = [w.T @ class_2[i] + b <= -1 for i in range(n)]\n",
    "\n",
    "# Sum the constraints\n",
    "constraints = x_constraints + y_constraints\n",
    "\n",
    "# Define the objective. Hint: use cp.norm\n",
    "obj = cp.Minimize(cp.norm(w, 2))\n",
    "\n",
    "# Add objective and constraint in the problem\n",
    "prob = cp.Problem(obj, constraints)\n",
    "\n",
    "# Solve the problem\n",
    "prob.solve()\n",
    "print('Problem Status: {}'.format(prob.status))"
   ]
  },
  {
   "cell_type": "code",
   "execution_count": 11,
   "metadata": {},
   "outputs": [
    {
     "data": {
      "text/plain": [
       "Solution(optimal, {1: array([ 0.41712229, -0.14320321]), 2: array(0.04156173)}, {7: 5.711089699151801e-12, 13: 4.974606736184544e-12, 19: 1.0069647559321418e-11, 25: 6.345344885978077e-12, 31: 5.243721401296309e-12, 37: 7.0986410972783625e-12, 43: 5.321051810436956e-12, 49: 5.66704021308626e-12, 55: 1.4934504460774584e-11, 61: 5.757658115325109e-12, 67: 1.556874087489152e-11, 73: 5.647434029354938e-12, 79: 9.995465836906194e-12, 85: 4.794422752905093e-12, 91: 0.22050972731541024, 97: 7.509253146870002e-12, 103: 9.205637242430165e-12, 109: 1.7721346757763347e-11, 115: 6.695671746884478e-12, 121: 6.785525138293765e-12, 127: 1.4016663294660275e-11, 133: 7.41845110149141e-12, 139: 1.161515468922672e-11, 145: 8.551058903766248e-12, 151: 9.816296628467819e-12, 157: 1.0244385567645289e-11, 163: 8.19413018738665e-12, 169: 7.39188688278561e-12, 175: 5.498452880511511e-12, 181: 5.553890769418397e-12, 187: 1.227458679358971e-11, 193: 8.560821572249221e-12, 199: 7.642051769380728e-12, 205: 1.4460751376297448e-11, 211: 9.726603939821863e-12, 217: 7.796250945937117e-12, 223: 1.1311776477649487e-11, 229: 1.7944391871008327e-10, 235: 9.452419710854336e-12, 241: 5.842208733487639e-12, 247: 6.413173169215938e-12, 253: 8.330214935114093e-12, 259: 4.543653035981009e-12, 265: 1.1617276732906155e-11, 271: 5.862786436314311e-12, 277: 1.75973560790118e-11, 283: 2.5668292582186494e-11, 289: 5.594939894601576e-12, 295: 1.0313359110594578e-11, 301: 1.4856914199318836e-11, 307: 6.2350841925337564e-12, 313: 1.1070201272089346e-11, 319: 7.1682603839359475e-12, 325: 7.987473531523482e-12, 331: 7.54056984356429e-12, 337: 6.261408893117455e-12, 343: 8.964385032669849e-12, 349: 1.2616537014611306e-11, 355: 7.544367098576564e-12, 361: 2.2311989586944033e-11, 367: 0.22050972739055194, 373: 6.30806602679849e-12, 379: 6.2794197515370665e-12, 385: 1.5318834945267764e-11, 391: 6.462703658013191e-12, 397: 1.1536988085446634e-11, 403: 8.246493936750542e-12, 409: 1.0264483982429991e-11, 415: 1.3733825743122467e-11, 421: 7.566985487194571e-12, 427: 5.926276497060091e-12, 433: 6.505787220965125e-12, 439: 7.601275928143214e-12, 445: 6.07876241089792e-12, 451: 2.3926440996093445e-11, 457: 2.91779146328009e-11, 463: 8.677638427726372e-12, 469: 3.582210528612888e-11, 475: 5.599533712146932e-12, 481: 7.097072259001158e-12, 487: 1.300571525076523e-11, 493: 6.609371525765495e-12, 499: 7.652063602485296e-12, 505: 1.1480806498263703e-11, 511: 1.1283795704964603e-11, 517: 1.1320939659103934e-11, 523: 1.0959048769748437e-11, 529: 8.120684058749336e-12, 535: 8.536047673696891e-12, 541: 8.602260535591862e-12, 547: 8.194105816769351e-12, 553: 1.981306618334212e-11, 559: 1.3083735606837471e-11, 565: 8.890922401559273e-12, 571: 8.921563583580954e-12, 577: 8.997872364487048e-12, 583: 5.986330687201076e-12, 589: 1.2738880060294692e-11, 595: 9.186083747104293e-12, 601: 1.844849992100786e-11}, {'solve_time': 0.0004068, 'setup_time': 0.0001306, 'num_iters': 9, 'solver_specific_stats': {'x': array([ 0.44101945,  0.41712229, -0.14320321,  0.04156173]), 'y': array([], dtype=float64), 'z': array([ 5.71108970e-12,  4.97460674e-12,  1.00696476e-11,  6.34534489e-12,\n",
       "        5.24372140e-12,  7.09864110e-12,  5.32105181e-12,  5.66704021e-12,\n",
       "        1.49345045e-11,  5.75765812e-12,  1.55687409e-11,  5.64743403e-12,\n",
       "        9.99546584e-12,  4.79442275e-12,  2.20509727e-01,  7.50925315e-12,\n",
       "        9.20563724e-12,  1.77213468e-11,  6.69567175e-12,  6.78552514e-12,\n",
       "        1.40166633e-11,  7.41845110e-12,  1.16151547e-11,  8.55105890e-12,\n",
       "        9.81629663e-12,  1.02443856e-11,  8.19413019e-12,  7.39188688e-12,\n",
       "        5.49845288e-12,  5.55389077e-12,  1.22745868e-11,  8.56082157e-12,\n",
       "        7.64205177e-12,  1.44607514e-11,  9.72660394e-12,  7.79625095e-12,\n",
       "        1.13117765e-11,  1.79443919e-10,  9.45241971e-12,  5.84220873e-12,\n",
       "        6.41317317e-12,  8.33021494e-12,  4.54365304e-12,  1.16172767e-11,\n",
       "        5.86278644e-12,  1.75973561e-11,  2.56682926e-11,  5.59493989e-12,\n",
       "        1.03133591e-11,  1.48569142e-11,  6.23508419e-12,  1.10702013e-11,\n",
       "        7.16826038e-12,  7.98747353e-12,  7.54056984e-12,  6.26140889e-12,\n",
       "        8.96438503e-12,  1.26165370e-11,  7.54436710e-12,  2.23119896e-11,\n",
       "        2.20509727e-01,  6.30806603e-12,  6.27941975e-12,  1.53188349e-11,\n",
       "        6.46270366e-12,  1.15369881e-11,  8.24649394e-12,  1.02644840e-11,\n",
       "        1.37338257e-11,  7.56698549e-12,  5.92627650e-12,  6.50578722e-12,\n",
       "        7.60127593e-12,  6.07876241e-12,  2.39264410e-11,  2.91779146e-11,\n",
       "        8.67763843e-12,  3.58221053e-11,  5.59953371e-12,  7.09707226e-12,\n",
       "        1.30057153e-11,  6.60937153e-12,  7.65206360e-12,  1.14808065e-11,\n",
       "        1.12837957e-11,  1.13209397e-11,  1.09590488e-11,  8.12068406e-12,\n",
       "        8.53604767e-12,  8.60226054e-12,  8.19410582e-12,  1.98130662e-11,\n",
       "        1.30837356e-11,  8.89092240e-12,  8.92156358e-12,  8.99787236e-12,\n",
       "        5.98633069e-12,  1.27388801e-11,  9.18608375e-12,  1.84484999e-11,\n",
       "        1.00000000e+00, -9.45813636e-01,  3.24709971e-01]), 's': array([ 2.02181272e+00,  2.34513887e+00,  1.10534950e+00,  1.80776895e+00,\n",
       "        2.05184068e+00,  1.66078390e+00,  2.18508674e+00,  2.09548616e+00,\n",
       "        8.04313374e-01,  1.98192492e+00,  7.53489018e-01,  2.07090057e+00,\n",
       "        1.18244527e+00,  2.35189714e+00,  4.56342694e-11,  1.40278503e+00,\n",
       "        1.17665613e+00,  5.94681341e-01,  1.69437505e+00,  1.68613147e+00,\n",
       "        7.83742715e-01,  1.44339110e+00,  9.33856716e-01,  1.19937590e+00,\n",
       "        1.13936306e+00,  1.12824463e+00,  1.37433126e+00,  1.55880057e+00,\n",
       "        2.01461988e+00,  2.11968746e+00,  9.71675969e-01,  1.32337099e+00,\n",
       "        1.41072498e+00,  7.47929771e-01,  1.11717098e+00,  1.47176491e+00,\n",
       "        9.86576087e-01,  1.04605494e-01,  1.17139515e+00,  1.88151346e+00,\n",
       "        1.74749356e+00,  1.35854898e+00,  2.46657906e+00,  9.56086011e-01,\n",
       "        1.88759110e+00,  6.32592656e-01,  4.94704313e-01,  2.10831869e+00,\n",
       "        1.14389606e+00,  6.95808322e-01,  1.78432986e+00,  1.03586330e+00,\n",
       "        1.61338231e+00,  1.42910004e+00,  1.52305556e+00,  1.85720378e+00,\n",
       "        1.30258132e+00,  9.10362824e-01,  1.53475063e+00,  5.28825666e-01,\n",
       "        5.11267170e-11,  1.83612569e+00,  1.83678247e+00,  7.82927111e-01,\n",
       "        1.78344709e+00,  9.57215251e-01,  1.40308562e+00,  1.11445119e+00,\n",
       "        7.03035949e-01,  1.49526640e+00,  1.94584739e+00,  1.82960598e+00,\n",
       "        1.59667557e+00,  1.99363663e+00,  4.96985232e-01,  3.93677209e-01,\n",
       "        1.42271268e+00,  3.59889528e-01,  2.03943602e+00,  1.63923562e+00,\n",
       "        8.76239069e-01,  1.70722812e+00,  1.50470165e+00,  1.00035892e+00,\n",
       "        1.04527501e+00,  1.05003238e+00,  1.05598470e+00,  1.45510956e+00,\n",
       "        1.43744507e+00,  1.33882085e+00,  1.44035571e+00,  5.92342007e-01,\n",
       "        9.05984675e-01,  1.29370670e+00,  1.21247453e+00,  1.28638100e+00,\n",
       "        1.91763435e+00,  8.74565126e-01,  1.25749571e+00,  6.40398921e-01,\n",
       "        4.41019455e-01,  4.17122286e-01, -1.43203207e-01]), 'info': {'exitFlag': 0, 'pcost': 0.44101945498577705, 'dcost': 0.44101945585828123, 'pres': 1.0959084364349309e-11, 'dres': 2.2909017934942956e-10, 'pinf': 0.0, 'dinf': 0.0, 'pinfres': 0.5602771420548518, 'dinfres': nan, 'gap': 5.3337072813963715e-09, 'relgap': 1.2094040774269886e-08, 'r0': 1e-08, 'iter': 9, 'mi_iter': -1, 'infostring': 'Optimal solution found', 'timing': {'runtime': 0.0005374, 'tsetup': 0.0001306, 'tsolve': 0.0004068}, 'numerr': 0}}})"
      ]
     },
     "execution_count": 11,
     "metadata": {},
     "output_type": "execute_result"
    }
   ],
   "source": [
    "prob.solution"
   ]
  },
  {
   "cell_type": "markdown",
   "metadata": {},
   "source": [
    "Great! Below is a helper function to assist you in plotting the result of your SVM classifier."
   ]
  },
  {
   "cell_type": "code",
   "execution_count": 12,
   "metadata": {},
   "outputs": [],
   "source": [
    "## A helper function for plotting the results, the decision plane, and the supporting planes\n",
    "\n",
    "def plotBoundaries(x, y, w, b):\n",
    "    # Takes in a set of datapoints x and y for two clusters,\n",
    "    d1_min = np.min([x[:,0], y[:,0]])\n",
    "    print('d1_min:', d1_min)\n",
    "    d1_max = np.max([x[:,0], y[:,0]])\n",
    "    print('d1_max:', d1_max)\n",
    "    # Line form: (-a[0] * x - b ) / a[1]\n",
    "    d2_at_mind1 = (-w[0]*d1_min - b ) / w[1]\n",
    "    d2_at_maxd1 = (-w[0]*d1_max - b ) / w[1]\n",
    "    sup_up_at_mind1 = (-w[0]*d1_min - b + 1 ) / w[1]\n",
    "    sup_up_at_maxd1 = (-w[0]*d1_max - b + 1 ) / w[1]\n",
    "    sup_dn_at_mind1 = (-w[0]*d1_min - b - 1 ) / w[1]\n",
    "    sup_dn_at_maxd1 = (-w[0]*d1_max - b - 1 ) / w[1]\n",
    "\n",
    "    # Plot the clusters!\n",
    "    plt.scatter(x[:,0], x[:,1], color='purple')\n",
    "    plt.scatter(y[:,0], y[:,1], color='yellow')\n",
    "    plt.plot([d1_min,d1_max], [d2_at_mind1, d2_at_maxd1], color='black')\n",
    "    plt.plot([d1_min,d1_max], [sup_up_at_mind1, sup_up_at_maxd1],'-.', color='blue')\n",
    "    plt.plot([d1_min,d1_max], [sup_dn_at_mind1, sup_dn_at_maxd1],'-.', color='blue')\n",
    "    plt.ylim([np.floor(np.min([x[:,1],y[:,1]])), np.ceil(np.max([x[:,1], y[:,1]]))])"
   ]
  },
  {
   "cell_type": "markdown",
   "metadata": {},
   "source": [
    "Use the helper function to plot your result. To get the values of `w` and `b`, use the `.value` attribute. "
   ]
  },
  {
   "cell_type": "code",
   "execution_count": 13,
   "metadata": {},
   "outputs": [
    {
     "name": "stdout",
     "output_type": "stream",
     "text": [
      "[ 0.41712229 -0.14320321]\n",
      "0.041561729779817376\n"
     ]
    }
   ],
   "source": [
    "w = w.value\n",
    "b = b.value\n",
    "print(w)\n",
    "print(b)"
   ]
  },
  {
   "cell_type": "code",
   "execution_count": 14,
   "metadata": {},
   "outputs": [
    {
     "data": {
      "text/plain": [
       "3.021812718339984"
      ]
     },
     "execution_count": 14,
     "metadata": {},
     "output_type": "execute_result"
    }
   ],
   "source": [
    "b + w.T @ class_1[0]"
   ]
  },
  {
   "cell_type": "code",
   "execution_count": 15,
   "metadata": {},
   "outputs": [
    {
     "name": "stdout",
     "output_type": "stream",
     "text": [
      "d1_min: -7.2278320238049725\n",
      "d1_max: 6.91984029437939\n"
     ]
    },
    {
     "data": {
      "image/png": "[encoded data removed]",
      "text/plain": [
       "<Figure size 432x288 with 1 Axes>"
      ]
     },
     "metadata": {
      "needs_background": "dark"
     },
     "output_type": "display_data"
    }
   ],
   "source": [
    "# Plot \n",
    "plotBoundaries(class_1, class_2, w, b)"
   ]
  },
  {
   "cell_type": "markdown",
   "metadata": {},
   "source": [
    "## A more complex problem"
   ]
  },
  {
   "cell_type": "markdown",
   "metadata": {},
   "source": [
    "Now, take a look at another problem by running the code below. This example will be a little trickier as the two classes are not perfectly linearly separable."
   ]
  },
  {
   "cell_type": "code",
   "execution_count": 16,
   "metadata": {},
   "outputs": [
    {
     "data": {
      "image/png": "[encoded data removed]",
      "text/plain": [
       "<Figure size 360x360 with 1 Axes>"
      ]
     },
     "metadata": {
      "needs_background": "dark"
     },
     "output_type": "display_data"
    }
   ],
   "source": [
    "plt.figure(figsize=(5, 5))\n",
    "\n",
    "plt.title('Two blobs')\n",
    "X, labels = make_blobs(n_features=2, centers=2, cluster_std=3,  random_state=123)\n",
    "plt.scatter(X[:, 0], X[:, 1], c=labels, s=25);"
   ]
  },
  {
   "cell_type": "markdown",
   "metadata": {},
   "source": [
    "Copy your optimization code from the Max Margin Classifier and look at the problem status. What do you see?"
   ]
  },
  {
   "cell_type": "code",
   "execution_count": 17,
   "metadata": {},
   "outputs": [],
   "source": [
    "# Assign label 0 to class_1\n",
    "class_1 = X[labels == 0]\n",
    "\n",
    "# Assign label 1 to class_2\n",
    "class_2 = X[labels == 1]"
   ]
  },
  {
   "cell_type": "code",
   "execution_count": null,
   "metadata": {},
   "outputs": [],
   "source": [
    "# Copy the optimization code from above \n",
    "# Define the variables\n",
    "w = cp.Variable(d)\n",
    "b = cp.Variable()\n",
    "\n",
    "# Define the constraints\n",
    "x_constraints = [w.T @ class_1[i] + b >= 1 for i in range(m)]\n",
    "y_constraints = [w.T @ class_2[i] + b <= -1 for i in range(n)]\n",
    "\n",
    "# Sum the constraints\n",
    "constraints = x_constraints + y_constraints\n",
    "\n",
    "# Define the objective. Hint: use cp.norm\n",
    "obj = cp.Minimize(cp.norm(w, 2))\n",
    "\n",
    "# Add objective and constraint in the problem\n",
    "prob = cp.Problem(obj, constraints)\n",
    "\n",
    "# Solve the problem\n",
    "prob.solve()\n",
    "print('Problem Status: {}'.format(prob.status))"
   ]
  },
  {
   "cell_type": "code",
   "execution_count": null,
   "metadata": {},
   "outputs": [],
   "source": [
    "# This has killed my kernel, rather than giving me a 'infeasible' response, but I get the point"
   ]
  },
  {
   "cell_type": "markdown",
   "metadata": {},
   "source": [
    "### What's happening?"
   ]
  },
  {
   "cell_type": "markdown",
   "metadata": {},
   "source": [
    "The problem status is \"infeasible\". In other words, the problem is not linearly separable, and it is impossible to draw one straight line that separates the two classes."
   ]
  },
  {
   "cell_type": "markdown",
   "metadata": {},
   "source": [
    "## Build a Soft Margin classifier\n",
    "\n",
    "To solve this problem, you'll need to \"relax\" your constraints and allow for items that are not correctly classified. This is where the Soft Margin classifier comes in! As a refresher, this is the formulation for the Soft Margin classifier:\n",
    "\n",
    "$$ b + w_Tx^{(i)} \\geq 1-\\xi^{(i)}  \\text{     if     } y ^{(i)} = 1$$\n",
    "\n",
    "$$ b + w_Tx^{(i)} \\leq -1+\\xi^{(i)}  \\text{     if     } y ^{(i)} = -1$$\n",
    "\n",
    "\n",
    "The objective function is \n",
    "\n",
    " $$\\dfrac{1}{2}\\lVert w \\rVert^2+ C(\\sum_i \\xi^{(i)})$$\n",
    " \n",
    "Use the code for the SVM optimization again, but adjust for the slack parameters $\\xi$ (ksi or xi).\n",
    " \n",
    "Some important things to note:\n",
    "- Every $\\xi$ needs to be positive, that should be added as constraints\n",
    "- Your objective needs to be changed as well\n",
    "- Allow for a \"hyperparameter\" $C$ which you set to 1 at first and you can change accordingly. Describe how your result changes \n"
   ]
  },
  {
   "cell_type": "code",
   "execution_count": 16,
   "metadata": {},
   "outputs": [
    {
     "data": {
      "image/png": "[encoded data removed]",
      "text/plain": [
       "<Figure size 360x360 with 1 Axes>"
      ]
     },
     "metadata": {
      "needs_background": "dark"
     },
     "output_type": "display_data"
    }
   ],
   "source": [
    "plt.figure(figsize=(5, 5))\n",
    "\n",
    "plt.title('Two blobs')\n",
    "X, labels = make_blobs(n_features=2, centers=2, cluster_std=3,  random_state=123)\n",
    "plt.scatter(X[:, 0], X[:, 1], c=labels, s=25);"
   ]
  },
  {
   "cell_type": "code",
   "execution_count": 17,
   "metadata": {},
   "outputs": [],
   "source": [
    "# Reassign the class labels\n",
    "class_1 = X[labels == 0]\n",
    "class_2 = X[labels == 1]"
   ]
  },
  {
   "cell_type": "code",
   "execution_count": 18,
   "metadata": {},
   "outputs": [
    {
     "name": "stdout",
     "output_type": "stream",
     "text": [
      "Problem Status: optimal\n"
     ]
    }
   ],
   "source": [
    "# Define the variables\n",
    "w = cp.Variable(d)\n",
    "b = cp.Variable()\n",
    "xi_x = cp.Variable(m)\n",
    "xi_y = cp.Variable(n)\n",
    "#C = cp.Variable()\n",
    "C = 1.0\n",
    "\n",
    "# Define the constraints\n",
    "x_constraints = [w.T @ class_1[i] + b >= 1 - xi_x[i] for i in range(m)]\n",
    "y_constraints = [w.T @ class_2[i] + b <= -1 + xi_y[i] for i in range(n)]\n",
    "xi_x_constraints = [xi_x[i] >= 0 for i in range(m)]\n",
    "xi_y_constraints = [xi_y[i] >= 0 for i in range(n)]\n",
    "\n",
    "# Sum the constraints\n",
    "constraints = x_constraints + y_constraints + xi_x_constraints + xi_y_constraints\n",
    "\n",
    "# Define the objective. Hint: use cp.norm. Add in a C hyperparameter and assume 1 at first\n",
    "objective = cp.Minimize(.5 * (cp.norm(w, 2)**2) + C*(sum(xi_x) + sum(xi_y)))\n",
    "\n",
    "# Add objective and constraint in the problem\n",
    "problem = cp.Problem(objective, constraints)\n",
    "\n",
    "# Solve the problem\n",
    "problem.solve()\n",
    "print('Problem Status:', problem.status)"
   ]
  },
  {
   "cell_type": "markdown",
   "metadata": {},
   "source": [
    "Plot your result again."
   ]
  },
  {
   "cell_type": "code",
   "execution_count": 19,
   "metadata": {},
   "outputs": [],
   "source": [
    "w = w.value\n",
    "b = b.value\n",
    "#C = C.value"
   ]
  },
  {
   "cell_type": "code",
   "execution_count": 20,
   "metadata": {},
   "outputs": [
    {
     "name": "stdout",
     "output_type": "stream",
     "text": [
      "w = [ 0.7703148  -0.39081719]\n",
      "b = -0.42512854151490287\n",
      "C = 1.0\n"
     ]
    }
   ],
   "source": [
    "# Your code here\n",
    "print('w =', w)\n",
    "print('b =', b)\n",
    "print('C =', C)"
   ]
  },
  {
   "cell_type": "code",
   "execution_count": 21,
   "metadata": {},
   "outputs": [
    {
     "name": "stdout",
     "output_type": "stream",
     "text": [
      "d1_min: -9.69863755692962\n",
      "d1_max: 11.10647950977041\n"
     ]
    },
    {
     "data": {
      "image/png": "[encoded data removed]",
      "text/plain": [
       "<Figure size 432x288 with 1 Axes>"
      ]
     },
     "metadata": {
      "needs_background": "dark"
     },
     "output_type": "display_data"
    }
   ],
   "source": [
    "plotBoundaries(class_1, class_2, w, b)"
   ]
  },
  {
   "cell_type": "markdown",
   "metadata": {},
   "source": [
    "Now go ahead and experiment with the hyperparameter $C$ (making it both larger and smaller than 1). What do you see?"
   ]
  },
  {
   "cell_type": "code",
   "execution_count": 18,
   "metadata": {},
   "outputs": [
    {
     "name": "stdout",
     "output_type": "stream",
     "text": [
      "Problem Status: optimal\n"
     ]
    }
   ],
   "source": [
    "# Define the variables\n",
    "w = cp.Variable(d)\n",
    "b = cp.Variable()\n",
    "xi_x = cp.Variable(m)\n",
    "xi_y = cp.Variable(n)\n",
    "#C = cp.Variable()\n",
    "C = 0.5\n",
    "\n",
    "# Define the constraints\n",
    "x_constraints = [w.T @ class_1[i] + b >= 1 - xi_x[i] for i in range(m)]\n",
    "y_constraints = [w.T @ class_2[i] + b <= -1 + xi_y[i] for i in range(n)]\n",
    "xi_x_constraints = [xi_x[i] >= 0 for i in range(m)]\n",
    "xi_y_constraints = [xi_y[i] >= 0 for i in range(n)]\n",
    "\n",
    "# Sum the constraints\n",
    "constraints = x_constraints + y_constraints + xi_x_constraints + xi_y_constraints\n",
    "\n",
    "# Define the objective. Hint: use cp.norm. Add in a C hyperparameter and assume 1 at first\n",
    "objective = cp.Minimize(.5 * (cp.norm(w, 2)**2) + C*(sum(xi_x) + sum(xi_y)))\n",
    "\n",
    "# Add objective and constraint in the problem\n",
    "problem = cp.Problem(objective, constraints)\n",
    "\n",
    "# Solve the problem\n",
    "problem.solve()\n",
    "print('Problem Status:', problem.status)"
   ]
  },
  {
   "cell_type": "markdown",
   "metadata": {},
   "source": [
    "Plot your result again."
   ]
  },
  {
   "cell_type": "code",
   "execution_count": 19,
   "metadata": {},
   "outputs": [],
   "source": [
    "w = w.value\n",
    "b = b.value\n",
    "#C = C.value"
   ]
  },
  {
   "cell_type": "code",
   "execution_count": 20,
   "metadata": {},
   "outputs": [
    {
     "name": "stdout",
     "output_type": "stream",
     "text": [
      "w = [ 0.56137613 -0.35779216]\n",
      "b = -0.5039581925120518\n",
      "C = 0.5\n"
     ]
    }
   ],
   "source": [
    "# Your code here\n",
    "print('w =', w)\n",
    "print('b =', b)\n",
    "print('C =', C)"
   ]
  },
  {
   "cell_type": "code",
   "execution_count": 21,
   "metadata": {},
   "outputs": [
    {
     "name": "stdout",
     "output_type": "stream",
     "text": [
      "d1_min: -9.69863755692962\n",
      "d1_max: 11.10647950977041\n"
     ]
    },
    {
     "data": {
      "image/png": "[encoded data removed]",
      "text/plain": [
       "<Figure size 432x288 with 1 Axes>"
      ]
     },
     "metadata": {
      "needs_background": "dark"
     },
     "output_type": "display_data"
    }
   ],
   "source": [
    "plotBoundaries(class_1, class_2, w, b)"
   ]
  },
  {
   "cell_type": "code",
   "execution_count": 18,
   "metadata": {},
   "outputs": [
    {
     "name": "stdout",
     "output_type": "stream",
     "text": [
      "Problem Status: optimal\n"
     ]
    }
   ],
   "source": [
    "# Define the variables\n",
    "w = cp.Variable(d)\n",
    "b = cp.Variable()\n",
    "xi_x = cp.Variable(m)\n",
    "xi_y = cp.Variable(n)\n",
    "#C = cp.Variable()\n",
    "C = 0.01\n",
    "\n",
    "# Define the constraints\n",
    "x_constraints = [w.T @ class_1[i] + b >= 1 - xi_x[i] for i in range(m)]\n",
    "y_constraints = [w.T @ class_2[i] + b <= -1 + xi_y[i] for i in range(n)]\n",
    "xi_x_constraints = [xi_x[i] >= 0 for i in range(m)]\n",
    "xi_y_constraints = [xi_y[i] >= 0 for i in range(n)]\n",
    "\n",
    "# Sum the constraints\n",
    "constraints = x_constraints + y_constraints + xi_x_constraints + xi_y_constraints\n",
    "\n",
    "# Define the objective. Hint: use cp.norm. Add in a C hyperparameter and assume 1 at first\n",
    "objective = cp.Minimize(.5 * (cp.norm(w, 2)**2) + C*(sum(xi_x) + sum(xi_y)))\n",
    "\n",
    "# Add objective and constraint in the problem\n",
    "problem = cp.Problem(objective, constraints)\n",
    "\n",
    "# Solve the problem\n",
    "problem.solve()\n",
    "print('Problem Status:', problem.status)"
   ]
  },
  {
   "cell_type": "markdown",
   "metadata": {},
   "source": [
    "Plot your result again."
   ]
  },
  {
   "cell_type": "code",
   "execution_count": 19,
   "metadata": {},
   "outputs": [],
   "source": [
    "w = w.value\n",
    "b = b.value\n",
    "#C = C.value"
   ]
  },
  {
   "cell_type": "code",
   "execution_count": 20,
   "metadata": {},
   "outputs": [
    {
     "name": "stdout",
     "output_type": "stream",
     "text": [
      "w = [ 0.28928294 -0.15763248]\n",
      "b = -0.20033815605647398\n",
      "C = 0.01\n"
     ]
    }
   ],
   "source": [
    "# Your code here\n",
    "print('w =', w)\n",
    "print('b =', b)\n",
    "print('C =', C)"
   ]
  },
  {
   "cell_type": "code",
   "execution_count": 21,
   "metadata": {},
   "outputs": [
    {
     "name": "stdout",
     "output_type": "stream",
     "text": [
      "d1_min: -9.69863755692962\n",
      "d1_max: 11.10647950977041\n"
     ]
    },
    {
     "data": {
      "image/png": "[encoded data removed]",
      "text/plain": [
       "<Figure size 432x288 with 1 Axes>"
      ]
     },
     "metadata": {
      "needs_background": "dark"
     },
     "output_type": "display_data"
    }
   ],
   "source": [
    "plotBoundaries(class_1, class_2, w, b)"
   ]
  },
  {
   "cell_type": "code",
   "execution_count": null,
   "metadata": {},
   "outputs": [],
   "source": [
    "# We can see that the smaller the value for C, the more support vectors are allowed inside of\n",
    "# the margin, because the slack is being punished less, so more is being allowed. This has\n",
    "# resulted in slightly different slopes for the hyperplanes."
   ]
  },
  {
   "cell_type": "markdown",
   "metadata": {},
   "source": [
    "## Summary"
   ]
  },
  {
   "cell_type": "markdown",
   "metadata": {},
   "source": [
    "Great! You now understand the rationale behind support vector machines. Wouldn't it be great to have a library that did this for you? Well, you're lucky: scikit-learn has an SVM module that automates all of this. In the next lab, you'll take a look at using this pre-built SVM tool!"
   ]
  }
 ],
 "metadata": {
  "kernelspec": {
   "display_name": "Python 3",
   "language": "python",
   "name": "python3"
  },
  "language_info": {
   "codemirror_mode": {
    "name": "ipython",
    "version": 3
   },
   "file_extension": ".py",
   "mimetype": "text/x-python",
   "name": "python",
   "nbconvert_exporter": "python",
   "pygments_lexer": "ipython3",
   "version": "3.7.4"
  }
 },
 "nbformat": 4,
 "nbformat_minor": 2
}
